{
 "cells": [
  {
   "cell_type": "markdown",
   "metadata": {},
   "source": [
    "# HW 2: Corporate Bond Pricing"
   ]
  },
  {
   "cell_type": "markdown",
   "metadata": {},
   "source": [
    "## 1. First, let's create a pricing function and check the std"
   ]
  },
  {
   "cell_type": "code",
   "execution_count": null,
   "metadata": {},
   "outputs": [],
   "source": [
    "import numpy as np\n",
    "\n",
    "def_rate = 0.10\n",
    "rf_rate = 0.04\n",
    "recovery = 0.3\n",
    "mat = 10\n",
    "\n",
    "# First generate exponential random numbers\n",
    "# Although you can generate directly using fault_time = np.random.exponential(scale=), let's use uniform random numbers.\n",
    "n_sample = 10000\n",
    "U = np.random.uniform(size=n_sample)\n",
    "default_time = -(1/def_rate)*np.log(U)\n",
    "\n",
    "# You can check if the RNs are correct by comparing the means\n",
    "return (default_time.mean(), 1/def_rate)"
   ]
  },
  {
   "cell_type": "code",
   "execution_count": null,
   "metadata": {},
   "outputs": [],
   "source": [
    "# Put your code here to price the corporate bond\n",
    "\n",
    "def corp_bond(mat=10, def_rate=0.1, rf_rate=0.04, recovery=0.3, n_sample=10000):\n",
    "    U = np.random.uniform(size=n_sample)\n",
    "    default_time = -(1/def_rate)*np.log(U/def_rate)\n",
    "    for k in default_time:\n",
    "      if k <= mat:\n",
    "        price = np.exp(-rf_rate*default_time)*recovery\n",
    "      else:\n",
    "        price = np.exp(-rf_rate*mat) \n",
    "\n",
    "    return price.mean()\n",
    "\n",
    "# Call your function\n",
    "corp_bond(mat=mat, def_rate=def_rate, rf_rate=rf_rate, recovery=recovery, n_sample=n_sample)"
   ]
  },
  {
   "cell_type": "markdown",
   "metadata": {},
   "source": [
    "## 2. Now, let's improve the function by reducing the MC variations.\n",
    "\n",
    "### 1. Use antithetic method: If U is uniform random variable, so is 1-U\n",
    "### 2. Also shift the RNs to match the mean, 1/def_rate"
   ]
  },
  {
   "cell_type": "code",
   "execution_count": null,
   "metadata": {},
   "outputs": [],
   "source": [
    "# For example, antithetic method mean\n",
    "n_sample = 10000\n",
    "U = np.random.uniform(size=n_sample)\n",
    "default_time = -(1/def_rate)*np.log(np.concatenate((U,1-U),axis=0))\n",
    "\n",
    "# Mean-matching means\n",
    "default_time += 1/def_rate-default_time.mean()\n",
    "(default_time.mean(), 1/def_rate)"
   ]
  },
  {
   "cell_type": "code",
   "execution_count": null,
   "metadata": {},
   "outputs": [],
   "source": [
    "# No include the two new features: `antithetic` and `mean_match`\n",
    "def corp_bond_cv(mat=10, def_rate=0.1, rf_rate=0.04, recovery=0.3, n_sample=10000, antithetic=True, mean_match=True):\n",
    "    n_sample = 10000\n",
    "    U = np.random.uniform(size=n_sample)\n",
    "    if antithetic == True:\n",
    "        default_time = -(1/def_rate)*np.log(np.concatenate((U/def_rate,(1-U)/def_rate),axis=0))\n",
    "        for k in default_time:\n",
    "            if k <= mat:\n",
    "                price = np.exp(-rf_rate*default_time)*recovery\n",
    "            else:\n",
    "                price = np.exp(-rf_rate*mat) \n",
    "            \n",
    "        \n",
    "    elif mean_match == True:\n",
    "        default_time = -(1/def_rate)*np.log(np.concatenate((U/def_rate,(1-U)/def_rate),axis=0))\n",
    "        default_time += 1/def_rate-default_time.mean()\n",
    "        for k in default_time:\n",
    "            if k <= mat:\n",
    "                price = np.exp(-rf_rate*default_time)*recovery\n",
    "            else:\n",
    "                price = np.exp(-rf_rate*mat) \n",
    "            \n",
    "    return price.mean()\n",
    "\n",
    "# Find the mean and std by calling the function 100 times for (i) antithetic (ii) mean_match and (iii) both\n",
    "for k in range(1,100):\n",
    "    price_at = corp_bond_cv(antithetic=True)\n",
    "    price_mh = corp_bond_cv(mean_match=True)\n",
    "    \n",
    "print(np.mean(price_at),np.std(price_at))\n",
    "print(np.mean(price_mh),np.std(price_mh))"
   ]
  },
  {
   "cell_type": "markdown",
   "metadata": {},
   "source": [
    "## 3. Finally, what is the analytic value of the corporate bond? How does it compare to your MC result above?"
   ]
  },
  {
   "cell_type": "code",
   "execution_count": null,
   "metadata": {},
   "outputs": [],
   "source": [
    "### Put the analytic expression for the corporate bond price\n",
    "## analytic value of the corporate bond\n",
    "def_rate = 0.1\n",
    "rf_rate = 0.04\n",
    "recovery = 0.3\n",
    "mat = 10\n",
    "corp_bond_price_analytic = 3*(1-np.exp(-1.3))/13 + np.exp(-1.3)\n",
    "print(corp_bond_price)"
   ]
  },
  {
   "cell_type": "code",
   "execution_count": null,
   "metadata": {},
   "outputs": [],
   "source": []
  }
 ],
 "metadata": {
  "kernelspec": {
   "display_name": "Python [conda env:Anaconda3]",
   "language": "python",
   "name": "conda-env-Anaconda3-py"
  },
  "language_info": {
   "codemirror_mode": {
    "name": "ipython",
    "version": 3
   },
   "file_extension": ".py",
   "mimetype": "text/x-python",
   "name": "python",
   "nbconvert_exporter": "python",
   "pygments_lexer": "ipython3",
   "version": "3.6.4"
  }
 },
 "nbformat": 4,
 "nbformat_minor": 2
}

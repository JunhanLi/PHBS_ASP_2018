{
 "cells": [
  {
   "cell_type": "markdown",
   "metadata": {
    "collapsed": true
   },
   "source": [
    "# Test BSM model implementation\n",
    "Repeat the same for normal model implementation"
   ]
  },
  {
   "cell_type": "code",
   "execution_count": 31,
   "metadata": {},
   "outputs": [],
   "source": [
    "import numpy as np"
   ]
  },
  {
   "cell_type": "code",
   "execution_count": 32,
   "metadata": {},
   "outputs": [],
   "source": [
    "# import\n",
    "from option_models import bsm\n",
    "from option_models import normal"
   ]
  },
  {
   "cell_type": "code",
   "execution_count": 33,
   "metadata": {},
   "outputs": [
    {
     "data": {
      "text/plain": [
       "<module 'option_models.normal' from 'C:\\\\Users\\\\lijun\\\\Documents\\\\GitHub\\\\PHBS_ASP_2018\\\\HW3\\\\option_models\\\\normal.py'>"
      ]
     },
     "execution_count": 33,
     "metadata": {},
     "output_type": "execute_result"
    }
   ],
   "source": [
    "### only run this when you changed the class definition\n",
    "import imp\n",
    "imp.reload(bsm)\n",
    "imp.reload(normal)"
   ]
  },
  {
   "cell_type": "markdown",
   "metadata": {
    "collapsed": true
   },
   "source": [
    "### Price"
   ]
  },
  {
   "cell_type": "code",
   "execution_count": 34,
   "metadata": {},
   "outputs": [],
   "source": [
    "# create model\n",
    "bsm1 = bsm.BsmModel(0.2)"
   ]
  },
  {
   "cell_type": "code",
   "execution_count": 35,
   "metadata": {},
   "outputs": [
    {
     "name": "stdout",
     "output_type": "stream",
     "text": [
      "3.1062836665495652\n"
     ]
    }
   ],
   "source": [
    "# price\n",
    "strike = 102\n",
    "spot = 100\n",
    "texp = 0.25\n",
    "\n",
    "price = bsm1.price(strike=strike, spot=spot, texp=texp, cp_sign=1)\n",
    "print(price)\n",
    "assert( abs(price - 3.10628366655) < 1e-10 )"
   ]
  },
  {
   "cell_type": "markdown",
   "metadata": {},
   "source": [
    "### Implied vol"
   ]
  },
  {
   "cell_type": "code",
   "execution_count": 36,
   "metadata": {},
   "outputs": [
    {
     "ename": "ValueError",
     "evalue": "f(a) and f(b) must have different signs",
     "output_type": "error",
     "traceback": [
      "\u001b[1;31m---------------------------------------------------------------------------\u001b[0m",
      "\u001b[1;31mValueError\u001b[0m                                Traceback (most recent call last)",
      "\u001b[1;32m<ipython-input-36-598f3c39e874>\u001b[0m in \u001b[0;36m<module>\u001b[1;34m()\u001b[0m\n\u001b[0;32m     17\u001b[0m \u001b[1;33m\u001b[0m\u001b[0m\n\u001b[0;32m     18\u001b[0m     \u001b[1;31m# get implied vol\u001b[0m\u001b[1;33m\u001b[0m\u001b[1;33m\u001b[0m\u001b[0m\n\u001b[1;32m---> 19\u001b[1;33m     \u001b[0mvol_imp\u001b[0m \u001b[1;33m=\u001b[0m \u001b[0mbsm2\u001b[0m\u001b[1;33m.\u001b[0m\u001b[0mimpvol\u001b[0m\u001b[1;33m(\u001b[0m\u001b[0mprice\u001b[0m\u001b[1;33m,\u001b[0m \u001b[0mstrike\u001b[0m\u001b[1;33m,\u001b[0m \u001b[0mspot\u001b[0m\u001b[1;33m,\u001b[0m \u001b[0mtexp\u001b[0m\u001b[1;33m=\u001b[0m\u001b[0mtexp\u001b[0m\u001b[1;33m,\u001b[0m \u001b[0mcp_sign\u001b[0m\u001b[1;33m=\u001b[0m\u001b[0mcp_sign\u001b[0m\u001b[1;33m)\u001b[0m\u001b[1;33m\u001b[0m\u001b[0m\n\u001b[0m\u001b[0;32m     20\u001b[0m \u001b[1;33m\u001b[0m\u001b[0m\n\u001b[0;32m     21\u001b[0m     \u001b[1;31m# now price option with the obtained implied vol\u001b[0m\u001b[1;33m\u001b[0m\u001b[1;33m\u001b[0m\u001b[0m\n",
      "\u001b[1;32m~\\Documents\\GitHub\\PHBS_ASP_2018\\HW3\\option_models\\bsm.py\u001b[0m in \u001b[0;36mimpvol\u001b[1;34m(self, price, strike, spot, texp, cp_sign)\u001b[0m\n\u001b[0;32m     74\u001b[0m         \u001b[0miv_func\u001b[0m \u001b[1;33m=\u001b[0m \u001b[1;32mlambda\u001b[0m \u001b[0m_vol\u001b[0m\u001b[1;33m:\u001b[0m\u001b[0;31m \u001b[0m\u001b[0;31m\\\u001b[0m\u001b[1;33m\u001b[0m\u001b[0m\n\u001b[0;32m     75\u001b[0m             \u001b[0mbsm_price\u001b[0m\u001b[1;33m(\u001b[0m\u001b[0mstrike\u001b[0m\u001b[1;33m,\u001b[0m \u001b[0mspot\u001b[0m\u001b[1;33m,\u001b[0m \u001b[0m_vol\u001b[0m\u001b[1;33m,\u001b[0m \u001b[0mtexp\u001b[0m\u001b[1;33m,\u001b[0m \u001b[0mself\u001b[0m\u001b[1;33m.\u001b[0m\u001b[0mintr\u001b[0m\u001b[1;33m,\u001b[0m \u001b[0mself\u001b[0m\u001b[1;33m.\u001b[0m\u001b[0mdivr\u001b[0m\u001b[1;33m,\u001b[0m \u001b[0mcp_sign\u001b[0m\u001b[1;33m)\u001b[0m \u001b[1;33m-\u001b[0m \u001b[0mprice\u001b[0m\u001b[1;33m\u001b[0m\u001b[0m\n\u001b[1;32m---> 76\u001b[1;33m         \u001b[0mvol\u001b[0m \u001b[1;33m=\u001b[0m \u001b[0msopt\u001b[0m\u001b[1;33m.\u001b[0m\u001b[0mbrentq\u001b[0m\u001b[1;33m(\u001b[0m\u001b[0miv_func\u001b[0m\u001b[1;33m,\u001b[0m \u001b[1;36m0\u001b[0m\u001b[1;33m,\u001b[0m \u001b[1;36m10\u001b[0m\u001b[1;33m)\u001b[0m\u001b[1;33m\u001b[0m\u001b[0m\n\u001b[0m\u001b[0;32m     77\u001b[0m         \u001b[1;32mreturn\u001b[0m \u001b[0mvol\u001b[0m\u001b[1;33m\u001b[0m\u001b[0m\n",
      "\u001b[1;32m~\\Anaconda3\\lib\\site-packages\\scipy\\optimize\\zeros.py\u001b[0m in \u001b[0;36mbrentq\u001b[1;34m(f, a, b, args, xtol, rtol, maxiter, full_output, disp)\u001b[0m\n\u001b[0;32m    517\u001b[0m     \u001b[1;32mif\u001b[0m \u001b[0mrtol\u001b[0m \u001b[1;33m<\u001b[0m \u001b[0m_rtol\u001b[0m\u001b[1;33m:\u001b[0m\u001b[1;33m\u001b[0m\u001b[0m\n\u001b[0;32m    518\u001b[0m         \u001b[1;32mraise\u001b[0m \u001b[0mValueError\u001b[0m\u001b[1;33m(\u001b[0m\u001b[1;34m\"rtol too small (%g < %g)\"\u001b[0m \u001b[1;33m%\u001b[0m \u001b[1;33m(\u001b[0m\u001b[0mrtol\u001b[0m\u001b[1;33m,\u001b[0m \u001b[0m_rtol\u001b[0m\u001b[1;33m)\u001b[0m\u001b[1;33m)\u001b[0m\u001b[1;33m\u001b[0m\u001b[0m\n\u001b[1;32m--> 519\u001b[1;33m     \u001b[0mr\u001b[0m \u001b[1;33m=\u001b[0m \u001b[0m_zeros\u001b[0m\u001b[1;33m.\u001b[0m\u001b[0m_brentq\u001b[0m\u001b[1;33m(\u001b[0m\u001b[0mf\u001b[0m\u001b[1;33m,\u001b[0m\u001b[0ma\u001b[0m\u001b[1;33m,\u001b[0m\u001b[0mb\u001b[0m\u001b[1;33m,\u001b[0m\u001b[0mxtol\u001b[0m\u001b[1;33m,\u001b[0m\u001b[0mrtol\u001b[0m\u001b[1;33m,\u001b[0m\u001b[0mmaxiter\u001b[0m\u001b[1;33m,\u001b[0m\u001b[0margs\u001b[0m\u001b[1;33m,\u001b[0m\u001b[0mfull_output\u001b[0m\u001b[1;33m,\u001b[0m\u001b[0mdisp\u001b[0m\u001b[1;33m)\u001b[0m\u001b[1;33m\u001b[0m\u001b[0m\n\u001b[0m\u001b[0;32m    520\u001b[0m     \u001b[1;32mreturn\u001b[0m \u001b[0mresults_c\u001b[0m\u001b[1;33m(\u001b[0m\u001b[0mfull_output\u001b[0m\u001b[1;33m,\u001b[0m \u001b[0mr\u001b[0m\u001b[1;33m)\u001b[0m\u001b[1;33m\u001b[0m\u001b[0m\n\u001b[0;32m    521\u001b[0m \u001b[1;33m\u001b[0m\u001b[0m\n",
      "\u001b[1;31mValueError\u001b[0m: f(a) and f(b) must have different signs"
     ]
    }
   ],
   "source": [
    "# Randomly generate spot/strike/expiry/intr/divr/cp_sign\n",
    "# Then test implied volatility\n",
    "\n",
    "for k in range(100):\n",
    "    spot = np.random.uniform(80,100)\n",
    "    strike = np.random.uniform(80,100)\n",
    "    vol = np.random.uniform(0.0001, 0.4)\n",
    "    texp = np.random.uniform(0.1, 5)\n",
    "    intr = np.random.uniform(0, 0.3)\n",
    "    divr = np.random.uniform(0, 0.3)\n",
    "    cp_sign = 1 if np.random.rand() > 0.5 else -1\n",
    "\n",
    "    #print( spot, strike, vol, texp, intr, divr, cp_sign)\n",
    "\n",
    "    bsm2 = bsm.BsmModel(vol=vol, intr=intr, divr=divr)\n",
    "    price = bsm2.price(strike, spot, texp, cp_sign )\n",
    "    \n",
    "    # get implied vol\n",
    "    vol_imp = bsm2.impvol(price, strike, spot, texp=texp, cp_sign=cp_sign)\n",
    "    \n",
    "    # now price option with the obtained implied vol\n",
    "    bsm2.vol = vol_imp\n",
    "    price_imp = bsm2.price(strike, spot, texp, cp_sign )\n",
    "    \n",
    "    # compare the two prices\n",
    "    assert( abs(price - price_imp) < 1e-8 )"
   ]
  },
  {
   "cell_type": "markdown",
   "metadata": {
    "scrolled": true
   },
   "source": [
    "### Delta\n",
    "Verify delta by comparing numerical derivative"
   ]
  },
  {
   "cell_type": "code",
   "execution_count": 45,
   "metadata": {},
   "outputs": [],
   "source": [
    "delta = bsm1.delta(strike=strike, spot=spot, texp=texp, cp_sign=1)\n",
    "h = 1e-6\n",
    "price_up = bsm1.price(strike=strike, spot=spot+h, texp=texp, cp_sign=1)\n",
    "price_dn = bsm1.price(strike=strike, spot=spot-h, texp=texp, cp_sign=1)\n",
    "delta_numeric = ( price_up - price_dn )/(2*h)\n",
    "assert( abs(delta - delta_numeric) < 1e-6 )"
   ]
  },
  {
   "cell_type": "markdown",
   "metadata": {},
   "source": [
    "### Vega\n",
    "Do similar verification"
   ]
  },
  {
   "cell_type": "code",
   "execution_count": 41,
   "metadata": {},
   "outputs": [],
   "source": [
    "vol = 0.2\n",
    "bsm1.vol = vol\n",
    "vega = bsm1.vega(strike=strike, spot=spot, texp=texp, cp_sign=1)\n",
    "v = 1e-6\n",
    "bsm1.vol = vol+v\n",
    "price_up = bsm1.price(strike=strike, spot=spot, texp=texp, cp_sign=1)\n",
    "bsm1.vol = vol-v\n",
    "price_dn = bsm1.price(strike=strike, spot=spot, texp=texp, cp_sign=1)\n",
    "vega_numeric = ( price_up - price_dn )/(2*v)\n",
    "assert( abs(vega - vega_numeric) < 1e-6 )"
   ]
  },
  {
   "cell_type": "code",
   "execution_count": 42,
   "metadata": {},
   "outputs": [
    {
     "name": "stdout",
     "output_type": "stream",
     "text": [
      "74.36598320497754 74.36598320609278\n"
     ]
    }
   ],
   "source": [
    "print(vega,vega_numeric)"
   ]
  },
  {
   "cell_type": "markdown",
   "metadata": {
    "collapsed": true
   },
   "source": [
    "### Gamma\n",
    "Do similar verification"
   ]
  },
  {
   "cell_type": "code",
   "execution_count": 43,
   "metadata": {},
   "outputs": [],
   "source": [
    "bsm1.vol = vol\n",
    "gamma = bsm1.gamma(strike=strike, spot=spot, texp=texp, cp_sign=1)\n",
    "h = 1e-6\n",
    "delta_up = bsm1.delta(strike=strike, spot=spot+h, texp=texp, cp_sign=1)\n",
    "delta_dn = bsm1.delta(strike=strike, spot=spot-h, texp=texp, cp_sign=1)\n",
    "gamma_numeric = ( delta_up - delta_dn )/(2*h)\n",
    "assert( abs(gamma - gamma_numeric) < 1e-6 )"
   ]
  },
  {
   "cell_type": "code",
   "execution_count": 44,
   "metadata": {},
   "outputs": [
    {
     "name": "stdout",
     "output_type": "stream",
     "text": [
      "0.009881727242380515 0.009881727214278158\n"
     ]
    }
   ],
   "source": [
    "print(gamma,gamma_numeric)"
   ]
  },
  {
   "cell_type": "markdown",
   "metadata": {},
   "source": [
    "# Normal Model"
   ]
  },
  {
   "cell_type": "code",
   "execution_count": null,
   "metadata": {},
   "outputs": [],
   "source": [
    "normal1 = normal.NormalModel(20) "
   ]
  },
  {
   "cell_type": "code",
   "execution_count": null,
   "metadata": {},
   "outputs": [],
   "source": [
    "# price\n",
    "strike = 102\n",
    "spot = 100\n",
    "texp = 0.25\n",
    "\n",
    "price = normal1.price(strike=strike, spot=spot, texp=texp, cp_sign=1)\n",
    "print(price)\n",
    "assert( abs(price - 3.10628366655) < 1e-10 )"
   ]
  },
  {
   "cell_type": "markdown",
   "metadata": {},
   "source": [
    "## Implied Vol"
   ]
  },
  {
   "cell_type": "code",
   "execution_count": null,
   "metadata": {},
   "outputs": [],
   "source": [
    "# Randomly generate spot/strike/expiry/intr/divr/cp_sign\n",
    "# Then test implied volatility\n",
    "\n",
    "for k in range(100):\n",
    "    spot = np.random.uniform(80,100)\n",
    "    strike = np.random.uniform(80,100)\n",
    "    vol = np.random.uniform(1, 50)\n",
    "    texp = np.random.uniform(0.1, 5)\n",
    "    intr = np.random.uniform(0, 0.3)\n",
    "    divr = np.random.uniform(0, 0.3)\n",
    "    cp_sign = 1 if np.random.rand() > 0.5 else -1\n",
    "\n",
    "    #print( spot, strike, vol, texp, intr, divr, cp_sign)\n",
    "\n",
    "    normal2 = normal.NormalModel(vol=vol, intr=intr, divr=divr)\n",
    "    price = normal2.price(strike, spot, texp, cp_sign )\n",
    "    \n",
    "    # get implied vol\n",
    "    vol_imp = normal2.impvol(price, strike, spot, texp=texp, cp_sign=cp_sign)\n",
    "    \n",
    "    # now price option with the obtained implied vol\n",
    "    normal2.vol = vol_imp\n",
    "    price_imp = normal2.price(strike, spot, texp, cp_sign )\n",
    "    \n",
    "    # compare the two prices\n",
    "    assert( abs(price - price_imp) < 1e-8 )"
   ]
  },
  {
   "cell_type": "markdown",
   "metadata": {},
   "source": [
    "## Delta"
   ]
  },
  {
   "cell_type": "code",
   "execution_count": 37,
   "metadata": {},
   "outputs": [
    {
     "name": "stdout",
     "output_type": "stream",
     "text": [
      "0.5235560236467618 0.5235560234240211\n"
     ]
    }
   ],
   "source": [
    "delta = normal1.delta(strike=strike, spot=spot, texp=texp, cp_sign=1)\n",
    "h = 1e-6\n",
    "price_up = normal1.price(strike=strike, spot=spot+h,texp=texp, cp_sign=1)\n",
    "price_dn = normal1.price(strike=strike, spot=spot-h,texp=texp, cp_sign=1)\n",
    "delta_numeric = ( price_up - price_dn )/(2*h)\n",
    "assert( abs(delta - delta_numeric) < 1e-6 )\n",
    "print(delta,delta_numeric)"
   ]
  },
  {
   "cell_type": "markdown",
   "metadata": {},
   "source": [
    "## Vega"
   ]
  },
  {
   "cell_type": "code",
   "execution_count": 38,
   "metadata": {},
   "outputs": [
    {
     "name": "stdout",
     "output_type": "stream",
     "text": [
      "0.8585444216157384 0.8585444231101746\n"
     ]
    }
   ],
   "source": [
    "vol = 20\n",
    "normal1.vol = vol\n",
    "vega = normal1.vega(strike=strike, spot=spot, texp=texp, cp_sign=1)\n",
    "v = 1e-6\n",
    "\n",
    "normal1.vol = vol+v\n",
    "price_up = normal1.price(strike=strike, spot=spot, texp=texp, cp_sign=1)\n",
    "normal1.vol = vol-v\n",
    "price_dn = normal1.price(strike=strike, spot=spot, texp=texp, cp_sign=1)\n",
    "vega_numeric = ( price_up - price_dn )/(2*v)\n",
    "assert( abs(vega - vega_numeric) < 1e-6 )\n",
    "print(vega,vega_numeric)"
   ]
  },
  {
   "cell_type": "markdown",
   "metadata": {},
   "source": [
    "## Gamma"
   ]
  },
  {
   "cell_type": "code",
   "execution_count": 39,
   "metadata": {},
   "outputs": [
    {
     "name": "stdout",
     "output_type": "stream",
     "text": [
      "0.00923658551785793 0.009236585496452676\n"
     ]
    }
   ],
   "source": [
    "normal1.vol = vol\n",
    "gamma = normal1.gamma(strike=strike, spot=spot, texp=texp, cp_sign=1)\n",
    "h = 1e-6\n",
    "delta_up = normal1.delta(strike=strike, spot=spot+h, texp=texp, cp_sign=1)\n",
    "delta_dn = normal1.delta(strike=strike, spot=spot-h, texp=texp, cp_sign=1)\n",
    "gamma_numeric = ( delta_up - delta_dn )/(2*h)\n",
    "assert( abs(gamma - gamma_numeric) < 1e-6 )\n",
    "print(gamma,gamma_numeric)"
   ]
  },
  {
   "cell_type": "code",
   "execution_count": null,
   "metadata": {},
   "outputs": [],
   "source": []
  }
 ],
 "metadata": {
  "anaconda-cloud": {},
  "kernelspec": {
   "display_name": "Python [default]",
   "language": "python",
   "name": "python3"
  },
  "language_info": {
   "codemirror_mode": {
    "name": "ipython",
    "version": 3
   },
   "file_extension": ".py",
   "mimetype": "text/x-python",
   "name": "python",
   "nbconvert_exporter": "python",
   "pygments_lexer": "ipython3",
   "version": "3.6.4"
  }
 },
 "nbformat": 4,
 "nbformat_minor": 1
}
